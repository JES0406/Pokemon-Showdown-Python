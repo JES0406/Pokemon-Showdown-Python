{
 "cells": [
  {
   "cell_type": "code",
   "execution_count": 16,
   "metadata": {},
   "outputs": [
    {
     "name": "stdout",
     "output_type": "stream",
     "text": [
      "c:\\Users\\javie\\Desktop\\Proyectos_GitHub\\Pokemon-Showdown-Python\n"
     ]
    }
   ],
   "source": [
    "import json\n",
    "import os\n",
    "print(os.getcwd())\n",
    "\n",
    "data = json.load(open('Raw_Datasets/Movesets/gen9randombattle.json'))\n",
    "pokemon_list = {}\n",
    "for pokemon in data:\n",
    "    # write each pokemon to the file\n",
    "    pokemon_dict = {\n",
    "        pokemon: data[pokemon]\n",
    "    }\n",
    "    pokemon_list.update(pokemon_dict)\n",
    "json.dump(pokemon_list, open(f'hola.json', 'a'), separators=(',', ':'), indent=4)"
   ]
  }
 ],
 "metadata": {
  "kernelspec": {
   "display_name": "Python 3",
   "language": "python",
   "name": "python3"
  },
  "language_info": {
   "codemirror_mode": {
    "name": "ipython",
    "version": 3
   },
   "file_extension": ".py",
   "mimetype": "text/x-python",
   "name": "python",
   "nbconvert_exporter": "python",
   "pygments_lexer": "ipython3",
   "version": "3.12.0"
  }
 },
 "nbformat": 4,
 "nbformat_minor": 2
}
